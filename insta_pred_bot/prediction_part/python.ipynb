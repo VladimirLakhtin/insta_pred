{
 "cells": [
  {
   "cell_type": "code",
   "execution_count": 17,
   "metadata": {},
   "outputs": [],
   "source": [
    "import instaloader\n",
    "from insta_parse import get_info4acc\n",
    "from tokenizer import text_transform\n",
    "import pandas as pd\n",
    "from joblib import load\n",
    "import pickle\n",
    "import scipy\n",
    "\n",
    "vect_user_names = load(open('tfidf/vect_user_names.pk', 'rb'))\n",
    "vect_posts = load(open('tfidf/vect_posts.pk', 'rb'))\n",
    "vect_bios = load(open('tfidf/vect_bios.pk', 'rb'))\n",
    "vect_names = load(open('tfidf/vect_full_names.pk', 'rb'))\n",
    "\n",
    "\n",
    "def get_X(L, user_name, df):\n",
    "\n",
    "    info = get_info4acc(L, user_name, df, num_posts=10)\n",
    "\n",
    "    print(info.columns)\n",
    "\n",
    "    user_names = vect_user_names.transform(info.user_name)\n",
    "    posts = vect_posts.transform(info.post_captions)\n",
    "    bios = vect_bios.transform(info.biography)\n",
    "    names = vect_names.transform(info.full_name)\n",
    "\n",
    "    X_new = scipy.sparse.hstack([info.drop(['post_captions', 'full_name', 'biography', 'user_name'], axis=1), \n",
    "                                        names, posts, bios, user_names])\n",
    "\n",
    "    return X_new\n",
    "\n",
    "def get_pred(user_name):\n",
    "\n",
    "    df = pd.read_csv('data_zero.csv')\n",
    "\n",
    "    model = pickle.load(open('model/insta_model.sav', 'rb')) \n",
    "\n",
    "    L = instaloader.Instaloader()\n",
    "\n",
    "    X = get_X(L, user_name, df)\n",
    "\n",
    "    pred = model.predict(X)[0]\n",
    "\n",
    "    return pred"
   ]
  },
  {
   "cell_type": "code",
   "execution_count": 20,
   "metadata": {},
   "outputs": [],
   "source": [
    "df = pd.read_csv('data_zero.csv')\n",
    "L = instaloader.Instaloader()"
   ]
  },
  {
   "cell_type": "code",
   "execution_count": 21,
   "metadata": {},
   "outputs": [
    {
     "name": "stdout",
     "output_type": "stream",
     "text": [
      "Index(['user_name', 'is_business', 'is_private', 'post_captions', 'likes4post',\n",
      "       'comms4post', 'hashtags4post', 'lenth_title4post',\n",
      "       'publications_period', 'count_posts', 'count_followers',\n",
      "       'count_followees', 'count_igtv', 'biography', 'full_name', 'len_bio',\n",
      "       'business_category_0', 'business_category_Creators & Celebrities',\n",
      "       'business_category_General Interest',\n",
      "       'business_category_Grocery & Convenience Stores',\n",
      "       'business_category_Home Goods Stores',\n",
      "       'business_category_Home Services',\n",
      "       'business_category_Lifestyle Services',\n",
      "       'business_category_Local Events',\n",
      "       'business_category_Non-Profits & Religious Organizations',\n",
      "       'business_category_Other',\n",
      "       'business_category_Personal Goods & General Merchandise Stores',\n",
      "       'business_category_Professional Services',\n",
      "       'business_category_Restaurants',\n",
      "       'business_category_Transportation & Accomodation Services'],\n",
      "      dtype='object')\n"
     ]
    },
    {
     "data": {
      "text/plain": [
       "<1x3703 sparse matrix of type '<class 'numpy.float64'>'\n",
       "\twith 26 stored elements in COOrdinate format>"
      ]
     },
     "execution_count": 21,
     "metadata": {},
     "output_type": "execute_result"
    }
   ],
   "source": [
    "get_X(L, 'yumyum.lvl', df)"
   ]
  }
 ],
 "metadata": {
  "interpreter": {
   "hash": "1c09443c8414f1d73e59aa6f8fbffcebbaea087b6e071ca5018959033c2221c3"
  },
  "kernelspec": {
   "display_name": "Python 3.9.7 ('.test': venv)",
   "language": "python",
   "name": "python3"
  },
  "language_info": {
   "codemirror_mode": {
    "name": "ipython",
    "version": 3
   },
   "file_extension": ".py",
   "mimetype": "text/x-python",
   "name": "python",
   "nbconvert_exporter": "python",
   "pygments_lexer": "ipython3",
   "version": "3.9.7"
  },
  "orig_nbformat": 4
 },
 "nbformat": 4,
 "nbformat_minor": 2
}
